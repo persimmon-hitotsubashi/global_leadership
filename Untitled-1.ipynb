{
 "cells": [
  {
   "cell_type": "code",
   "execution_count": 1,
   "metadata": {},
   "outputs": [],
   "source": [
    "import openai\n",
    "import os\n",
    "import base64\n",
    "import requests\n",
    "import glob\n"
   ]
  },
  {
   "cell_type": "code",
   "execution_count": 8,
   "metadata": {},
   "outputs": [],
   "source": [
    "openai.api_key = os.environ[\"OPENAI_API_KEY\"]\n",
    "api_key = os.environ[\"OPENAI_API_KEY\"]"
   ]
  },
  {
   "cell_type": "code",
   "execution_count": 3,
   "metadata": {},
   "outputs": [],
   "source": [
    "openai_client = openai.OpenAI()"
   ]
  },
  {
   "cell_type": "code",
   "execution_count": 12,
   "metadata": {},
   "outputs": [],
   "source": [
    "def encode_image(image_path):\n",
    "    with open(image_path, \"rb\") as image_file:\n",
    "        return base64.b64encode(image_file.read()).decode(\"utf-8\")"
   ]
  },
  {
   "cell_type": "code",
   "execution_count": 21,
   "metadata": {},
   "outputs": [],
   "source": [
    "# 'Pictures' ディレクトリのパス\n",
    "directory = 'Picture'\n",
    "\n",
    "# ディレクトリ内のすべてのファイルを取得してエンコード\n",
    "encoded_images = {}\n",
    "for entry in os.scandir(directory):\n",
    "    if entry.is_file():\n",
    "        file_path = entry.path\n",
    "        encoded_images[entry.name] = encode_image(file_path)"
   ]
  },
  {
   "cell_type": "code",
   "execution_count": 26,
   "metadata": {},
   "outputs": [],
   "source": [
    "picture_dict = {}"
   ]
  },
  {
   "cell_type": "code",
   "execution_count": 27,
   "metadata": {},
   "outputs": [],
   "source": [
    "for path, base64_image in encoded_images.items():\n",
    "    prompt = \"\"\"この写真は今日のあった出来事を取った写真です。\n",
    "    この写真には何が写ってますか?\n",
    "    \"\"\"\n",
    "\n",
    "    headers = {\n",
    "    \"Content-Type\": \"application/json\",\n",
    "    \"Authorization\": f\"Bearer {api_key}\"\n",
    "    }\n",
    "\n",
    "    payload = {\n",
    "    \"model\": \"gpt-4-vision-preview\",\n",
    "    \"messages\": [\n",
    "        {\n",
    "        \"role\": \"user\",\n",
    "        \"content\": [\n",
    "            {\n",
    "            \"type\": \"text\",\n",
    "            \"text\": f\"{prompt}\"\n",
    "            },\n",
    "            {\n",
    "            \"type\": \"image_url\",\n",
    "            \"image_url\": {\n",
    "                \"url\": f\"data:image/jpeg;base64,{base64_image}\"\n",
    "            }\n",
    "            }\n",
    "        ]\n",
    "        }\n",
    "    ],\n",
    "    \"max_tokens\": 1200\n",
    "    }\n",
    "\n",
    "    response = requests.post(\"https://api.openai.com/v1/chat/completions\", headers=headers, json=payload)\n",
    "\n",
    "    picture_dict[path] = response.json().get(\"choices\")[0][\"message\"][\"content\"]"
   ]
  },
  {
   "cell_type": "code",
   "execution_count": 28,
   "metadata": {},
   "outputs": [
    {
     "data": {
      "text/plain": [
       "{'global_leadership.jpg': 'この写真には、講演会や授業が行われている様子が写っています。中央に立っている男性が何かを説明しているようで、周りに座っている多くの人々が彼に注目しています。参加者はノートパソコンを使用していたり、メモを取ったりしており、教育的な環境、おそらくは大学やビジネススクールのような場所である可能性が高いです。参加者は異なる年齢層に見え、多様な背景を持っているかもしれません。',\n",
       " 'groupwork.jpg': 'この写真には、会議室のような環境で協力して仕事をしているビジネスチームが写っています。テーブルの上には複数のラップトップ、書類、グラフやチャートが記載された紙、スマートフォン、そしてコーヒーカップが配置されています。チームメンバーは、話し合いながら資料を見たり、ラップトップを操作したりしています。みんな服装はビジネスカジュアルで、活発なディスカッションを行っているように見えます。',\n",
       " 'pick-up.jpg': 'この写真には、学校の制服を着た少年と、スーツを着た女性が写っています。女性は膝を曲げて座り、優しく少年の頬に手を当てて、何かを話しかけているようです。少年はランドセルを背負っており、手をつないでもらいながら何かを注意深く聞いている様子が伺えます。背景には他の子供たちも学校の制服を着ており、学校の前の広場で撮られた一コマのようです。周囲の雰囲気から、この写真は日本の小学校の送迎のシーンを捉えたものと思われます。女性はおそらく少年の母親または何らかの保護者でしょう。',\n",
       " 'presentation.jpg': 'この写真には、ビジネスのプレゼンテーションまたは会議が行われている様子が写っています。スクリーンにはグラフと「Market Share」という文字が表示されており、プレゼンターが指し棒を使って説明しているようです。部屋には聴衆として数人の人が座っており、彼らはラップトップの前に座ってプレゼンテーションを聞いているようです。プレゼンテーションを行っている人は、きれいなシャツにネクタイを着け、プロフェッショナルな印象を与えています。',\n",
       " 'safari_kazoku.webp': 'この写真には、家庭のダイニングエリアで一緒に食事をする若い男性と女性が写っています。彼らはテーブルを挟んで座っており、互いに向かって笑顔で手を伸ばしています。テーブルの上には、いくつかの盛り付けられた料理とグラスに入った飲み物、そして花瓶に入った花が置かれています。部屋は居心地がよく整えられており、テレビやソファ、クッションなどが配置されていることが見て取れます。全体として、彼らは楽しい食事の時間を過ごしている様子が伝わってきます。'}"
      ]
     },
     "execution_count": 28,
     "metadata": {},
     "output_type": "execute_result"
    }
   ],
   "source": [
    "picture_dict"
   ]
  },
  {
   "cell_type": "code",
   "execution_count": 31,
   "metadata": {},
   "outputs": [],
   "source": [
    "import pandas as pd"
   ]
  },
  {
   "cell_type": "code",
   "execution_count": 32,
   "metadata": {},
   "outputs": [],
   "source": [
    "df = pd.read_csv(\"elly_calendar.csv\")"
   ]
  },
  {
   "cell_type": "code",
   "execution_count": 34,
   "metadata": {},
   "outputs": [],
   "source": [
    "contents_dict = df.set_index('time', drop=False).T.to_dict('dict')"
   ]
  },
  {
   "cell_type": "code",
   "execution_count": null,
   "metadata": {},
   "outputs": [],
   "source": [
    "def _setting_system_template_draft():\n",
    "        return \"\"\"\\\n",
    "        You are a helpful, skilled and prominent Diary writing assistant.\n",
    "        Your task is to write a draft diary entry in 150 words.\n",
    "        You earn higher rewards for good question and draft diary.\n",
    "        However, you are highly penalized or are fired for poor quality question and draft diary.\n",
    "        \"\"\"\n",
    "\n",
    "def _setting_human_llm_template_draft(schedule_contents, photo_contents):\n",
    "\n",
    "    return f\"\"\"\\\n",
    "    #### Your Tasks ####\n",
    "    Your first task is to write a 150-word draft of diary \\\n",
    "        based on schedule and a description of the day's memorable photos.\n",
    "\n",
    "    ================\n",
    "    ###description of the day's memorable photos#####\n",
    "\n",
    "    {photo_contents}\n",
    "    ================\n",
    "    ###schedule#####\n",
    "\n",
    "    {schedule_contents}\n",
    "    ================\n",
    "    \"\"\"\n",
    "\n"
   ]
  },
  {
   "cell_type": "code",
   "execution_count": null,
   "metadata": {},
   "outputs": [],
   "source": [
    "class WritingNikkiContents:\n",
    "\n",
    "    def __init__(self, ai_message) -> None:\n",
    "        \"\"\"\n",
    "        SummarizeUrlContentsクラスのコンストラクタ.\n",
    "        \"\"\"\n",
    "        self.openai_client = openai.OpenAI()\n",
    "        self.conversation_memory = ai_message\n",
    "\n",
    "    def conversation(self):\n",
    "        system_template = self._setting_system_template_question()\n",
    "        human_llm_template = self._setting_human_llm_template_question(\n",
    "            self.conversation_memory)\n",
    "        messages = self._create_prompt_messages(system_template,\n",
    "                                                human_llm_template)\n",
    "        ai_message = openai.OpenAI().chat.completions.create(\n",
    "            model=\"gpt-4-turbo-preview\",\n",
    "            temperature=0,\n",
    "            max_tokens=4096,\n",
    "            messages=messages,\n",
    "            )\n",
    "        self.conversation_memory.append({\"AIMessage\": ai_message.choices[0].message.content})\n",
    "        return self.conversation_memory\n",
    "\n",
    "    def create_draft(self, user_input):\n",
    "        self.conversation_memory.append({\"UserMessage\": user_input})\n",
    "        system_template = self._setting_system_template_draft()\n",
    "        human_llm_template = self._setting_human_llm_template_draft(\n",
    "            self.conversation_memory)\n",
    "        messages = self._create_prompt_messages(system_template,\n",
    "                                                human_llm_template)\n",
    "        return self.openai_client.chat.completions.create(\n",
    "            model=\"gpt-4-turbo-preview\",\n",
    "            temperature=0,\n",
    "            max_tokens=4096,\n",
    "            messages=messages,\n",
    "            ).choices[0].message.content\n",
    "\n",
    "    @staticmethod\n",
    "    def _create_prompt_messages(system_template: str,\n",
    "                                user_template: str):\n",
    "        \"\"\"\n",
    "        プロンプトメッセージを作成する関数.\n",
    "\n",
    "        Args:\n",
    "        ----\n",
    "            system_template (str): システム側のプロンプトテンプレート。\n",
    "            user_template (str): ユーザー側のプロンプトテンプレート。\n",
    "\n",
    "        Returns:\n",
    "        -------\n",
    "            List[ChatCompletionMessageParam]: \\\n",
    "                システムとユーザーのプロンプトメッセージのリスト。\n",
    "        \"\"\"\n",
    "        return [\n",
    "            {\"role\": \"system\", \"content\": system_template},\n",
    "            {\"role\": \"user\", \"content\": user_template},\n",
    "        ]\n",
    "\n",
    "    def _setting_system_template_draft(self):\n",
    "        return \"\"\"\\\n",
    "        You are a helpful, skilled and prominent Diary writing assistant.\n",
    "        Your task is to write a draft diary entry in 150 words.\n",
    "        You earn higher rewards for good question and draft diary.\n",
    "        However, you are highly penalized or are fired for poor quality question and draft diary.\n",
    "        \"\"\"\n",
    "\n",
    "    def _setting_system_template_question(self):\n",
    "        return \"\"\"\\\n",
    "        You are a helpful, skilled and prominent Diary writing assistant.\n",
    "        Your task is to ask questions about the user's feelings \\\n",
    "            and thoughts at the time.\n",
    "        You earn higher rewards for good question and draft diary.\n",
    "        However, you are highly penalized or are fired for poor quality question and draft diary.\n",
    "        \"\"\"\n",
    "\n",
    "    def _setting_human_llm_template_draft(self, contents):\n",
    "\n",
    "        return f\"\"\"\\\n",
    "        #### Your Tasks ####\n",
    "        Your first task is to write a 150-word draft of diary \\\n",
    "            based on our conversation history.\n",
    "\n",
    "        ================\n",
    "        ###Conversation Memory#####\n",
    "\n",
    "        {contents}\n",
    "        ================\n",
    "        \"\"\"\n",
    "\n",
    "    def _setting_human_llm_template_question(self, contents):\n",
    "\n",
    "        return f\"\"\"\\\n",
    "        #### Your Tasks ####\n",
    "        Your first task is to ask questions about the user's feelings \\\n",
    "            and thoughts at the time.\n",
    "\n",
    "        ================\n",
    "        ###Conversation Memory#####\n",
    "\n",
    "        {contents}\n",
    "        ================\n",
    "        \"\"\"\n"
   ]
  }
 ],
 "metadata": {
  "kernelspec": {
   "display_name": "Python 3",
   "language": "python",
   "name": "python3"
  },
  "language_info": {
   "codemirror_mode": {
    "name": "ipython",
    "version": 3
   },
   "file_extension": ".py",
   "mimetype": "text/x-python",
   "name": "python",
   "nbconvert_exporter": "python",
   "pygments_lexer": "ipython3",
   "version": "3.11.2"
  },
  "orig_nbformat": 4
 },
 "nbformat": 4,
 "nbformat_minor": 2
}
